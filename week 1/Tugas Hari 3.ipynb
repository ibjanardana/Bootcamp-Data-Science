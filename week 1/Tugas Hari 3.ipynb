{
  "cells": [
    {
      "cell_type": "markdown",
      "metadata": {
        "id": "I6jmLA-RYrt5"
      },
      "source": [
        "<h2>Soal 1: Helper Function</h2>\n",
        "\n",
        "Jawab Pertanyaan di bawah ini:\n",
        "\n",
        "Misalkan kamu ingin mengetahui tentang kegunaan fungsi 'len' di Python, maka fungsi apa yang bisa kamu gunakan untuk menolong kamu?"
      ]
    },
    {
      "cell_type": "code",
      "execution_count": 2,
      "metadata": {
        "id": "VrvyQxGJYrt9"
      },
      "outputs": [
        {
          "name": "stdout",
          "output_type": "stream",
          "text": [
            "Help on built-in function len in module builtins:\n",
            "\n",
            "len(obj, /)\n",
            "    Return the number of items in a container.\n",
            "\n"
          ]
        }
      ],
      "source": [
        "# lengkapi code ini\n",
        "# menggunakan fungsi help\n",
        "help(len)"
      ]
    },
    {
      "cell_type": "markdown",
      "metadata": {
        "id": "KrcuFTuAYruT"
      },
      "source": [
        "<h2>Soal 2: Built-in Function</h2>\n",
        "\n",
        "Jawab Pertanyaan di bawah ini:\n",
        "    \n",
        "Apa itu built-in Function?\n",
        "\n",
        "Sebutkan 3 built-in Function di pyhon!\n",
        "\n",
        "Berikan contoh masing2 1 cara penggunaan built-in function yang kamu sebutkan sebelumnya"
      ]
    },
    {
      "cell_type": "markdown",
      "metadata": {
        "id": "xro-58_CYruW"
      },
      "source": [
        "//isi jawaban text disini\n",
        "built-in function adalah fungsi bawaan yang dipunyai bahasa pemrograman itu sendiri dalam hal ini yaitu \n",
        "bahasa pemrograman python.\n",
        "\n",
        "sebutkan 3 built-in function dan contohnya masing2 1 built-in function cara penggunaanya\n",
        "\n",
        "1.len() cara penggunaanya masukan parameter/argument berupa objek/variabel yang ingin diketahui jumlah stringnya didalam suatu objek/variabel didalam tutup kurung function len tersebut.\n",
        "\n",
        "\n",
        "2.help() cara penggunaanya masukan parameter objek function yang ingin diketahui kegunaan function tersebut dan cara menggunakannya dengan keluaran berupa header.\n",
        "\n",
        "\n",
        "3.float() cara penggunaanya masukan parameter/argument yang akan diolah menjadi type data float bisa berupa variabel atau objek hanya yang mengandung type data integer didalam tutup kurung function float tersebut. \n",
        "\n"
      ]
    },
    {
      "cell_type": "code",
      "execution_count": 3,
      "metadata": {
        "id": "Xv7lHkgfYruY"
      },
      "outputs": [
        {
          "name": "stdout",
          "output_type": "stream",
          "text": [
            "25 Karakter\n",
            "\n",
            "Help on built-in function len in module builtins:\n",
            "\n",
            "len(obj, /)\n",
            "    Return the number of items in a container.\n",
            "\n"
          ]
        },
        {
          "data": {
            "text/plain": [
              "11.0"
            ]
          },
          "execution_count": 3,
          "metadata": {},
          "output_type": "execute_result"
        }
      ],
      "source": [
        "# Contoh penggunaan built in function\n",
        "\n",
        "# contoh len built-in function\n",
        "kata = \"saya belajar data science\"\n",
        "print(len(kata),\"Karakter\")\n",
        "print()\n",
        "\n",
        "# contoh help built-in function\n",
        "help(len)\n",
        "\n",
        "# contoh float built-in function\n",
        "a = 5+6\n",
        "\n",
        "float(a)"
      ]
    },
    {
      "cell_type": "markdown",
      "metadata": {
        "id": "yhWXiPNDYrul"
      },
      "source": [
        "<h2>Soal 3: Method dan Function</h2>\n",
        "\n",
        "Jawab Pertanyaan di bawah ini:\n",
        "    \n",
        "- Apa perbedaan method dan function?"
      ]
    },
    {
      "cell_type": "markdown",
      "metadata": {
        "id": "rqpTJlgDYrun"
      },
      "source": [
        "method : adalah suatu function yang berasosiasi oleh suatu object dan function tersebut hanya bisa digunakan oleh object tersebut.\n",
        "\n",
        "function : adalah suatu function yang sudah ada atau bisa dibuat sendiri dan tidak bergantung atau berasosiasi oleh object tertentu"
      ]
    },
    {
      "cell_type": "markdown",
      "metadata": {
        "id": "tUU1xgYBYrup"
      },
      "source": [
        "<h2>Soal 4: Menggunkan Method String</h2>\n",
        "\n",
        "Lengkapi kode untuk menghasilkan suatu output yang di harapkan"
      ]
    },
    {
      "cell_type": "code",
      "execution_count": 4,
      "metadata": {
        "id": "037gauOGYrur"
      },
      "outputs": [
        {
          "name": "stdout",
          "output_type": "stream",
          "text": [
            "AYO BELAJAR DATA SCIENCE\n"
          ]
        },
        {
          "data": {
            "text/plain": [
              "5"
            ]
          },
          "execution_count": 4,
          "metadata": {},
          "output_type": "execute_result"
        }
      ],
      "source": [
        "kalimat = \"ayo belajar data science\"\n",
        "\n",
        "# gunakan method untuk mengubah nilai kalimat menjadi uppercase semua kemudian tampilkan hasilnya\n",
        "print(kalimat.upper())\n",
        "\n",
        "# gunakan method untuk menghitung berapa huruf a di dalam kalimat\n",
        "kalimat.count(\"a\")\n"
      ]
    },
    {
      "cell_type": "markdown",
      "metadata": {
        "id": "fPTd4R5VYru5"
      },
      "source": [
        "Expected Output:\n",
        "\n",
        "AYO BELAJAR DATA SCIENCE\n",
        "\n",
        "5"
      ]
    },
    {
      "cell_type": "markdown",
      "metadata": {
        "id": "IPjp5vwDYrvL"
      },
      "source": [
        "<h2>Soal 5: Membuat Simple Function</h2>\n",
        "\n",
        "Buatlah suatu fungsi yang menerima satu input argumen berbentuk list dan mempunyai elemen bertipe numeric semua, dimana fungsi tersebut berguna untuk menghitung rata2 dari kumpulan elemen list tersebut. namai fungsi tersebut 'mean_list'"
      ]
    },
    {
      "cell_type": "code",
      "execution_count": 5,
      "metadata": {
        "id": "5KZg_AJUF9sK"
      },
      "outputs": [
        {
          "name": "stdout",
          "output_type": "stream",
          "text": [
            "12.39\n"
          ]
        }
      ],
      "source": [
        "obj_list = [11.25, 18.0, 20.0, 10.75, 9.50, 13.45, 23.0, 7.0, 8.45, 2.50]\n",
        "def mean_list(inp_list):\n",
        "    return (sum(inp_list)/len(inp_list))\n",
        "\n",
        "print(mean_list(obj_list))"
      ]
    },
    {
      "cell_type": "markdown",
      "metadata": {
        "id": "MVAvoHHgYrva"
      },
      "source": [
        "Expected Output:\n",
        "\n",
        "12.39"
      ]
    },
    {
      "cell_type": "markdown",
      "metadata": {
        "id": "A8jjpNC8Yrvc"
      },
      "source": [
        "<h2>Soal 6: Membuat Function dengan Multiple arguments</h2>\n",
        "\n",
        "Buatlah suatu fungsi untuk melakukan penggabungan antara dua list "
      ]
    },
    {
      "cell_type": "code",
      "execution_count": 6,
      "metadata": {
        "id": "gMWsoMw7G4s4"
      },
      "outputs": [
        {
          "name": "stdout",
          "output_type": "stream",
          "text": [
            "[1, 2, 3, 4, 5, 6, 7]\n"
          ]
        }
      ],
      "source": [
        "obj_list = [1, 2, 3, 4]\n",
        "obj_penambah = [5, 6, 7]\n",
        "\n",
        "def kali_list(inp_list1, inp_list2):\n",
        "    return inp_list1 + inp_list2\n",
        "\n",
        "print(kali_list(obj_list, obj_penambah))"
      ]
    },
    {
      "cell_type": "markdown",
      "metadata": {
        "id": "RYhU921kYrvp"
      },
      "source": [
        "Expected Output:\n",
        "\n",
        "\n",
        "[1, 2, 3, 4, 5, 6, 7]"
      ]
    },
    {
      "cell_type": "markdown",
      "metadata": {
        "id": "n4vXAQs4G9_s"
      },
      "source": [
        "# Soal 7. Mapping Fungsi lambda\n",
        "\n",
        "Hitunglah jumlah bilangan genap dari sebuah objek list berikut menggunakan lambda function"
      ]
    },
    {
      "cell_type": "code",
      "execution_count": 7,
      "metadata": {
        "id": "fKZSTDb9NdIZ"
      },
      "outputs": [
        {
          "name": "stdout",
          "output_type": "stream",
          "text": [
            "500\n"
          ]
        }
      ],
      "source": [
        "obj_list = [i for i in range(1000)]\n",
        "\n",
        "hasil = map(lambda x : x % 2,obj_list)\n",
        "\n",
        "print(sum(hasil))"
      ]
    },
    {
      "cell_type": "markdown",
      "metadata": {
        "id": "vEj-AttRNWuZ"
      },
      "source": [
        "Expected output:\n",
        "\n",
        "500"
      ]
    }
  ],
  "metadata": {
    "colab": {
      "collapsed_sections": [],
      "name": "Tugas Hari 3.ipynb",
      "provenance": []
    },
    "kernelspec": {
      "display_name": "Python 3.10.6 64-bit",
      "language": "python",
      "name": "python3"
    },
    "language_info": {
      "codemirror_mode": {
        "name": "ipython",
        "version": 3
      },
      "file_extension": ".py",
      "mimetype": "text/x-python",
      "name": "python",
      "nbconvert_exporter": "python",
      "pygments_lexer": "ipython3",
      "version": "3.10.6"
    },
    "vscode": {
      "interpreter": {
        "hash": "28729dde3b12b26835894d8476d44eb931e70742846a1bd2c46ee3e267788273"
      }
    }
  },
  "nbformat": 4,
  "nbformat_minor": 0
}
